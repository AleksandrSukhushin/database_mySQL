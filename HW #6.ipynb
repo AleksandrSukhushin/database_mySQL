{
 "cells": [
  {
   "cell_type": "markdown",
   "metadata": {},
   "source": [
    "### 1. Создайте функцию, которая принимает кол-во сек и формат их в кол-во дней часов. Пример: 123456 ->'1 days 10 hours 17 minutes 36 seconds '"
   ]
  },
  {
   "cell_type": "code",
   "execution_count": null,
   "metadata": {
    "vscode": {
     "languageId": "plaintext"
    }
   },
   "outputs": [],
   "source": [
    "DELIMITER //\n",
    "CREATE FUNCTION format_seconds(seconds INT)\n",
    "RETURNS VARCHAR(100)\n",
    "DETERMINISTIC\n",
    "BEGIN\n",
    "    DECLARE days INT;\n",
    "    DECLARE hours INT;\n",
    "    DECLARE minutes INT;\n",
    "    DECLARE result VARCHAR(100);\n",
    "\n",
    "    SET days = seconds div 86400;\n",
    "    SET seconds = seconds % 86400;\n",
    "    \n",
    "    SET hours = seconds div 3600;\n",
    "    SET seconds = seconds % 3600;\n",
    "\n",
    "    SET minutes = seconds div 60;\n",
    "    SET seconds = seconds % 60;\n",
    "\n",
    "    SET result = CONCAT(days, \"days\", hours, \"hours\", minutes, \"minutes\", seconds, \"seconds\");\n",
    "    \n",
    "    RETURN result;\n",
    "END //\n",
    "DELIMITER ;\n",
    "\n",
    "SELECT format_seconds(123456);"
   ]
  },
  {
   "attachments": {
    "image.png": {
     "image/png": "[encoded data removed]"
    }
   },
   "cell_type": "markdown",
   "metadata": {},
   "source": [
    "![image.png](attachment:image.png)"
   ]
  },
  {
   "cell_type": "markdown",
   "metadata": {},
   "source": [
    "### 2. Выведите только четные числа от 1 до 10. Пример: 2,4,6,8,10"
   ]
  },
  {
   "cell_type": "code",
   "execution_count": null,
   "metadata": {
    "vscode": {
     "languageId": "plaintext"
    }
   },
   "outputs": [],
   "source": [
    "DELIMITER //\n",
    "CREATE PROCEDURE even_numbers()\n",
    "BEGIN\n",
    "    DECLARE i INT DEFAULT 1;\n",
    "    DECLARE result VARCHAR(100) DEFAULT '';\n",
    "\n",
    "    WHILE i <= 10 DO\n",
    "        IF i % 2 = 0 THEN\n",
    "            SET result = CONCAT(result, i, ',');\n",
    "        END IF;\n",
    "        SET i = i + 1;\n",
    "    END WHILE;\n",
    "\n",
    "    SET result = SUBSTRING(result, 1, LENGTH(result) - 1);\n",
    "\n",
    "    SELECT result;\n",
    "END //\n",
    "DELIMITER ;\n",
    "\n",
    "CALL even_numbers();"
   ]
  },
  {
   "attachments": {
    "image.png": {
     "image/png": "[encoded data removed]"
    }
   },
   "cell_type": "markdown",
   "metadata": {},
   "source": [
    "![image.png](attachment:image.png)"
   ]
  }
 ],
 "metadata": {
  "language_info": {
   "name": "python"
  },
  "orig_nbformat": 4
 },
 "nbformat": 4,
 "nbformat_minor": 2
}
