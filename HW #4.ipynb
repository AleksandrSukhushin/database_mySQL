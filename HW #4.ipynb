{
 "cells": [
  {
   "cell_type": "markdown",
   "metadata": {},
   "source": [
    "### 1. Вывести на экран сколько машин каждого цвета для машин марок BMW и LADA"
   ]
  },
  {
   "cell_type": "code",
   "execution_count": null,
   "metadata": {
    "vscode": {
     "languageId": "plaintext"
    }
   },
   "outputs": [],
   "source": [
    "SELECT MARK, COLOR, COUNT(*) AS COUNT_COLOR\n",
    "FROM AUTO\n",
    "WHERE MARK IN ('BMW', 'LADA')\n",
    "GROUP BY MARK, COLOR;"
   ]
  },
  {
   "attachments": {
    "image.png": {
     "image/png": "[encoded data removed]"
    }
   },
   "cell_type": "markdown",
   "metadata": {},
   "source": [
    "![image.png](attachment:image.png)"
   ]
  },
  {
   "cell_type": "markdown",
   "metadata": {},
   "source": [
    "### 2. Вывести на экран марку авто и количество AUTO не этой марки"
   ]
  },
  {
   "cell_type": "code",
   "execution_count": null,
   "metadata": {
    "vscode": {
     "languageId": "plaintext"
    }
   },
   "outputs": [],
   "source": [
    "SELECT DISTINCT MARK AS CURRENT_MARK,\n",
    "(SELECT COUNT(*) FROM AUTO WHERE MARK <> CURRENT_MARK) AS COUNT_OTHERS\n",
    "FROM AUTO;"
   ]
  },
  {
   "attachments": {
    "image.png": {
     "image/png": "[encoded data removed]"
    }
   },
   "cell_type": "markdown",
   "metadata": {},
   "source": [
    "![image.png](attachment:image.png)"
   ]
  },
  {
   "cell_type": "markdown",
   "metadata": {},
   "source": [
    "### Задание №3.\n",
    "Даны 2 таблицы, созданные следующим образом:\n",
    "\n",
    "create table test_a (id number, data varchar2(1));\n",
    "\n",
    "create table test_b (id number);\n",
    "\n",
    "insert into test_a(id, data) \n",
    "values\n",
    "(10, 'A'),\n",
    "(20, 'A'),\n",
    "(30, 'F'),\n",
    "(40, 'D'),\n",
    "(50, 'C');\n",
    "\n",
    "insert into test_b(id) \n",
    "values\n",
    "(10),\n",
    "(30),\n",
    "(50);\n",
    "\n",
    "### Напишите запрос, который вернет строки из таблицы test_a, id которых нет в таблице test_b, НЕ используя ключевого слова NOT."
   ]
  },
  {
   "cell_type": "code",
   "execution_count": null,
   "metadata": {
    "vscode": {
     "languageId": "plaintext"
    }
   },
   "outputs": [],
   "source": [
    "SELECT a.*\n",
    "FROM test_a as a\n",
    "LEFT JOIN test_b as b \n",
    "ON a.id = b.id\n",
    "WHERE b.id IS NULL;"
   ]
  },
  {
   "attachments": {
    "image.png": {
     "image/png": "[encoded data removed]"
    }
   },
   "cell_type": "markdown",
   "metadata": {},
   "source": [
    "![image.png](attachment:image.png)"
   ]
  }
 ],
 "metadata": {
  "language_info": {
   "name": "python"
  },
  "orig_nbformat": 4
 },
 "nbformat": 4,
 "nbformat_minor": 2
}
