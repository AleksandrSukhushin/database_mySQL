{
 "cells": [
  {
   "cell_type": "markdown",
   "metadata": {},
   "source": [
    "### 1. Создайте представление, в которое попадут автомобили стоимостью до 25 000 долларов"
   ]
  },
  {
   "cell_type": "code",
   "execution_count": null,
   "metadata": {
    "vscode": {
     "languageId": "plaintext"
    }
   },
   "outputs": [],
   "source": []
  },
  {
   "cell_type": "markdown",
   "metadata": {},
   "source": []
  },
  {
   "cell_type": "markdown",
   "metadata": {},
   "source": [
    "### 2. Изменить в существующем представлении порог для стоимости: пусть цена будет до 30 000 долларов (используя оператор ALTER VIEW)"
   ]
  },
  {
   "cell_type": "code",
   "execution_count": null,
   "metadata": {
    "vscode": {
     "languageId": "plaintext"
    }
   },
   "outputs": [],
   "source": []
  },
  {
   "cell_type": "markdown",
   "metadata": {},
   "source": []
  },
  {
   "cell_type": "markdown",
   "metadata": {},
   "source": [
    "### 3. Создайте представление, в котором будут только автомобили марки “Шкода” и “Ауди” (аналогично)"
   ]
  },
  {
   "cell_type": "code",
   "execution_count": null,
   "metadata": {
    "vscode": {
     "languageId": "plaintext"
    }
   },
   "outputs": [],
   "source": []
  },
  {
   "cell_type": "markdown",
   "metadata": {},
   "source": []
  },
  {
   "cell_type": "markdown",
   "metadata": {},
   "source": [
    "### Вывести название и цену для всех анализов, которые продавались 5 февраля 2020 и всю следующую неделю.\n",
    "Есть таблица анализов **Analysis**:\n",
    "**an_id** — ID анализа;\n",
    "**an_name** — название анализа;\n",
    "**an_cost** — себестоимость анализа;\n",
    "**an_price** — розничная цена анализа;\n",
    "__an_group__ — группа анализов.\n",
    "Есть таблица групп анализов **Groups**:\n",
    "**gr_id** — ID группы;\n",
    "__gr_name__ — название группы;\n",
    "__gr_temp__ — температурный режим хранения.\n",
    "Есть таблица заказов __Orders__:\n",
    "**ord_id** — ID заказа;\n",
    "**ord_datetime** — дата и время заказа;\n",
    "**ord_an** — ID анализа."
   ]
  },
  {
   "cell_type": "code",
   "execution_count": null,
   "metadata": {
    "vscode": {
     "languageId": "plaintext"
    }
   },
   "outputs": [],
   "source": []
  },
  {
   "cell_type": "markdown",
   "metadata": {},
   "source": []
  }
 ],
 "metadata": {
  "language_info": {
   "name": "python"
  },
  "orig_nbformat": 4
 },
 "nbformat": 4,
 "nbformat_minor": 2
}
