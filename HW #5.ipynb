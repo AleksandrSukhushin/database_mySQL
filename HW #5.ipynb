{
 "cells": [
  {
   "cell_type": "markdown",
   "metadata": {},
   "source": [
    "### 1. Создайте представление, в которое попадут автомобили стоимостью до 25 000 долларов"
   ]
  },
  {
   "cell_type": "code",
   "execution_count": null,
   "metadata": {
    "vscode": {
     "languageId": "plaintext"
    }
   },
   "outputs": [],
   "source": [
    "CREATE VIEW Cars_25000 AS\n",
    "SELECT *\n",
    "FROM Cars\n",
    "WHERE Cost < 25000;"
   ]
  },
  {
   "cell_type": "markdown",
   "metadata": {},
   "source": [
    "### 2. Изменить в существующем представлении порог для стоимости: пусть цена будет до 30 000 долларов (используя оператор ALTER VIEW)"
   ]
  },
  {
   "cell_type": "code",
   "execution_count": null,
   "metadata": {
    "vscode": {
     "languageId": "plaintext"
    }
   },
   "outputs": [],
   "source": [
    "DROP VIEW IF EXISTS Cars_25000;\n",
    "\n",
    "CREATE VIEW Cars_30000 AS\n",
    "SELECT *\n",
    "FROM Cars\n",
    "WHERE Cost < 30000;"
   ]
  },
  {
   "cell_type": "markdown",
   "metadata": {},
   "source": [
    "***ALTER VIEW не работает в MySQL***"
   ]
  },
  {
   "cell_type": "markdown",
   "metadata": {},
   "source": [
    "### 3. Создайте представление, в котором будут только автомобили марки “Шкода” и “Ауди” (аналогично)"
   ]
  },
  {
   "cell_type": "code",
   "execution_count": null,
   "metadata": {
    "vscode": {
     "languageId": "plaintext"
    }
   },
   "outputs": [],
   "source": [
    "CREATE VIEW Cars_model AS\n",
    "SELECT *\n",
    "FROM Cars\n",
    "WHERE Name IN (\"Skoda\", \"Audi\");"
   ]
  },
  {
   "cell_type": "markdown",
   "metadata": {},
   "source": [
    "### Вывести название и цену для всех анализов, которые продавались 5 февраля 2020 и всю следующую неделю.\n",
    "Есть таблица анализов **Analysis**:\n",
    "**an_id** — ID анализа;\n",
    "**an_name** — название анализа;\n",
    "**an_cost** — себестоимость анализа;\n",
    "**an_price** — розничная цена анализа;\n",
    "__an_group__ — группа анализов.\n",
    "Есть таблица групп анализов **Groups**:\n",
    "**gr_id** — ID группы;\n",
    "__gr_name__ — название группы;\n",
    "__gr_temp__ — температурный режим хранения.\n",
    "Есть таблица заказов __Orders__:\n",
    "**ord_id** — ID заказа;\n",
    "**ord_datetime** — дата и время заказа;\n",
    "**ord_an** — ID анализа."
   ]
  },
  {
   "cell_type": "code",
   "execution_count": null,
   "metadata": {
    "vscode": {
     "languageId": "plaintext"
    }
   },
   "outputs": [],
   "source": [
    "SELECT a.an_name, a.an_price\n",
    "FROM Analysis a\n",
    "JOIN Orders o ON a.an_id = o.ord_an\n",
    "WHERE o.ord_datetime BETWEEN \"2020-02-05\" AND \"2020-02-11\""
   ]
  },
  {
   "cell_type": "markdown",
   "metadata": {},
   "source": [
    "### Добавьте новый столбец под названием «время до следующей станции». Чтобы получить это значение, мы вычитаем время станций для пар смежных станций. Мы можем вычислить это значение без использования оконной функции SQL, но это может быть очень сложно. Проще это сделать с помощью оконной функции LEAD . Эта функция сравнивает значения из одной строки со следующей строкой, чтобы получить результат. В этом случае функция сравнивает значения в столбце «время» для станции со станцией сразу после нее."
   ]
  },
  {
   "cell_type": "code",
   "execution_count": null,
   "metadata": {
    "vscode": {
     "languageId": "plaintext"
    }
   },
   "outputs": [],
   "source": [
    "SELECT train_id, station, station_time,\n",
    "    LEAD(station_time) OVER (PARTITION BY train_id ORDER BY station_time) AS next_station_time, \n",
    "    TIME_DIFF(LEAD(station_time) OVER (PARTITION BY train_id ORDER BY station_time), station_time) AS time_to_next_station\n",
    "FROM Schedule;"
   ]
  }
 ],
 "metadata": {
  "language_info": {
   "name": "python"
  },
  "orig_nbformat": 4
 },
 "nbformat": 4,
 "nbformat_minor": 2
}
